{
 "cells": [
  {
   "cell_type": "markdown",
   "id": "47056c48-c2c9-420b-b95f-0daf2032266e",
   "metadata": {},
   "source": [
    "my first program"
   ]
  },
  {
   "cell_type": "code",
   "execution_count": 1,
   "id": "a98d0138-3bb0-4509-80e3-9f597b917262",
   "metadata": {},
   "outputs": [
    {
     "data": {
      "text/plain": [
       "4"
      ]
     },
     "execution_count": 1,
     "metadata": {},
     "output_type": "execute_result"
    }
   ],
   "source": [
    "1+3"
   ]
  },
  {
   "cell_type": "code",
   "execution_count": 2,
   "id": "d03f4c6a-0aa2-4d4d-9fd6-96cbe8bb1d9f",
   "metadata": {},
   "outputs": [
    {
     "data": {
      "text/plain": [
       "7"
      ]
     },
     "execution_count": 2,
     "metadata": {},
     "output_type": "execute_result"
    }
   ],
   "source": [
    "2+5"
   ]
  },
  {
   "cell_type": "code",
   "execution_count": null,
   "id": "dde1dd0a-c5f6-4ef6-b17b-5348c946b720",
   "metadata": {},
   "outputs": [],
   "source": [
    "x=min(5,10,15)"
   ]
  },
  {
   "cell_type": "code",
   "execution_count": 1,
   "id": "df0669cf-b5d7-4878-acd3-7902cfeada3c",
   "metadata": {},
   "outputs": [],
   "source": [
    "y=max(5,10,15)"
   ]
  },
  {
   "cell_type": "code",
   "execution_count": null,
   "id": "ecba637b-334d-4160-a7dd-a598d1e9d069",
   "metadata": {},
   "outputs": [],
   "source": []
  },
  {
   "cell_type": "code",
   "execution_count": 4,
   "id": "06377b84-dd66-41e4-9587-60519c29ea54",
   "metadata": {},
   "outputs": [
    {
     "ename": "NameError",
     "evalue": "name 'x' is not defined",
     "output_type": "error",
     "traceback": [
      "\u001b[0;31m---------------------------------------------------------------------------\u001b[0m",
      "\u001b[0;31mNameError\u001b[0m                                 Traceback (most recent call last)",
      "Cell \u001b[0;32mIn[4], line 1\u001b[0m\n\u001b[0;32m----> 1\u001b[0m \u001b[38;5;28mprint\u001b[39m(\u001b[43mx\u001b[49m)\n",
      "\u001b[0;31mNameError\u001b[0m: name 'x' is not defined"
     ]
    }
   ],
   "source": [
    "print(x)"
   ]
  },
  {
   "cell_type": "code",
   "execution_count": 5,
   "id": "83c948d2-ebc7-4343-a227-552a23c108a3",
   "metadata": {},
   "outputs": [
    {
     "name": "stdout",
     "output_type": "stream",
     "text": [
      "15\n"
     ]
    }
   ],
   "source": [
    "print(y)"
   ]
  },
  {
   "cell_type": "code",
   "execution_count": null,
   "id": "b505e618-5d20-4d4c-aaf8-d8f46447db50",
   "metadata": {},
   "outputs": [],
   "source": []
  },
  {
   "cell_type": "code",
   "execution_count": 6,
   "id": "5ea2cfaa-4f41-4d57-a346-0eaab1c8a127",
   "metadata": {},
   "outputs": [],
   "source": [
    "x=pow(4,3)"
   ]
  },
  {
   "cell_type": "code",
   "execution_count": null,
   "id": "81e1465b-4a65-4499-a6c1-a7bf7f35d7ba",
   "metadata": {},
   "outputs": [],
   "source": []
  },
  {
   "cell_type": "code",
   "execution_count": 7,
   "id": "c4f54ac0-ea74-4512-a902-7ba4e9b070d2",
   "metadata": {},
   "outputs": [
    {
     "name": "stdout",
     "output_type": "stream",
     "text": [
      "64\n"
     ]
    }
   ],
   "source": [
    "print(x)"
   ]
  },
  {
   "cell_type": "code",
   "execution_count": null,
   "id": "929c37ce-47fb-4291-9513-7acfe83f69f3",
   "metadata": {},
   "outputs": [],
   "source": []
  }
 ],
 "metadata": {
  "kernelspec": {
   "display_name": "Python 3 (ipykernel)",
   "language": "python",
   "name": "python3"
  },
  "language_info": {
   "codemirror_mode": {
    "name": "ipython",
    "version": 3
   },
   "file_extension": ".py",
   "mimetype": "text/x-python",
   "name": "python",
   "nbconvert_exporter": "python",
   "pygments_lexer": "ipython3",
   "version": "3.8.2"
  }
 },
 "nbformat": 4,
 "nbformat_minor": 5
}
