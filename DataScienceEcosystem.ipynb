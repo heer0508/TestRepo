{
 "cells": [
  {
   "cell_type": "markdown",
   "id": "54ecc826-3bfd-48fc-905d-a2f1f4e42f32",
   "metadata": {},
   "source": [
    "# Data Science Tools and Ecosystem"
   ]
  },
  {
   "cell_type": "markdown",
   "id": "a530ecea-1b3a-46f2-b19c-948ceae17688",
   "metadata": {
    "jupyter": {
     "source_hidden": true
    }
   },
   "source": [
    "## In this notebook, Data Science Tools and Ecosystem are summarized.\n",
    "\n"
   ]
  },
  {
   "cell_type": "markdown",
   "id": "2a894ff2-c15c-48cc-a6cf-202fad1413e6",
   "metadata": {},
   "source": [
    "**Objectives:**\n",
    "- List some of the libraries that data scientists commonly use\n",
    "- List popular languages for Data Science\n",
    "- Evaluating arithmetic expressions"
   ]
  },
  {
   "cell_type": "markdown",
   "id": "7a3021c0-3bca-4dc8-bcda-f2cb583a1d3f",
   "metadata": {},
   "source": [
    "## Author\n",
    "Heer Patel"
   ]
  },
  {
   "cell_type": "markdown",
   "id": "35199c9e-69a6-451a-9638-996bdbb370f9",
   "metadata": {},
   "source": [
    "Some of the popular languages that Data Scientists use are:\n",
    "\n",
    "1. Python\n",
    "2. R\n",
    "3. SQL"
   ]
  },
  {
   "cell_type": "markdown",
   "id": "77ad8691-72f4-4c42-8988-bcdc9e57a43c",
   "metadata": {},
   "source": [
    "Some of the commonly used libraries used by Data Scientists include:\n",
    "\n",
    "1. Pandas\n",
    "2. NumPy\n",
    "3. Matplotlib"
   ]
  },
  {
   "cell_type": "markdown",
   "id": "f88a311d-0530-4e6a-ad21-730d999f38f4",
   "metadata": {},
   "source": [
    "| Data Science Tools |\n",
    "|--------------------|\n",
    "| Jupyter Notebook   |\n",
    "| RStudio            |\n",
    "| ApacheSpark        |"
   ]
  },
  {
   "cell_type": "markdown",
   "id": "09ac37d8-09a4-453f-ab04-a90d3bb35853",
   "metadata": {},
   "source": [
    "### Below are a few examples of evaluating arithmetic expressions in Python"
   ]
  },
  {
   "cell_type": "code",
   "execution_count": 11,
   "id": "c4f4260d-4639-44df-b9e4-a74f0ed97522",
   "metadata": {},
   "outputs": [
    {
     "data": {
      "text/plain": [
       "17"
      ]
     },
     "execution_count": 11,
     "metadata": {},
     "output_type": "execute_result"
    }
   ],
   "source": [
    "#This a simple arithmetic expression to mutiply then add integers\n",
    "(3*4)+5"
   ]
  },
  {
   "cell_type": "code",
   "execution_count": 12,
   "id": "4a38acba-0d6b-46e9-ae3b-743de16fc18a",
   "metadata": {},
   "outputs": [
    {
     "data": {
      "text/plain": [
       "3.3333333333333335"
      ]
     },
     "execution_count": 12,
     "metadata": {},
     "output_type": "execute_result"
    }
   ],
   "source": [
    "#This will convert 200 minutes to hours by diving by 60.\n",
    "200/60"
   ]
  },
  {
   "cell_type": "code",
   "execution_count": null,
   "id": "23d09d23-d4f9-4065-ae10-1c749fbaaf2c",
   "metadata": {},
   "outputs": [],
   "source": []
  }
 ],
 "metadata": {
  "kernelspec": {
   "display_name": "Python [conda env:base] *",
   "language": "python",
   "name": "conda-base-py"
  },
  "language_info": {
   "codemirror_mode": {
    "name": "ipython",
    "version": 3
   },
   "file_extension": ".py",
   "mimetype": "text/x-python",
   "name": "python",
   "nbconvert_exporter": "python",
   "pygments_lexer": "ipython3",
   "version": "3.13.5"
  }
 },
 "nbformat": 4,
 "nbformat_minor": 5
}
